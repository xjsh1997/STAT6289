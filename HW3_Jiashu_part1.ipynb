{
  "nbformat": 4,
  "nbformat_minor": 0,
  "metadata": {
    "colab": {
      "name": "HW3_Jiashu.ipynb",
      "provenance": [],
      "authorship_tag": "ABX9TyPonKkY2ex2sixiBOhCydZj",
      "include_colab_link": true
    },
    "kernelspec": {
      "name": "python3",
      "display_name": "Python 3"
    },
    "language_info": {
      "name": "python"
    }
  },
  "cells": [
    {
      "cell_type": "markdown",
      "metadata": {
        "id": "view-in-github",
        "colab_type": "text"
      },
      "source": [
        "<a href=\"https://colab.research.google.com/github/xjsh1997/STAT6289/blob/main/HW3_Jiashu_part1.ipynb\" target=\"_parent\"><img src=\"https://colab.research.google.com/assets/colab-badge.svg\" alt=\"Open In Colab\"/></a>"
      ]
    },
    {
      "cell_type": "code",
      "execution_count": 3,
      "metadata": {
        "id": "GNoQ5mWe9clG"
      },
      "outputs": [],
      "source": [
        "#import package\n",
        "import math\n",
        "import matplotlib.pyplot as plt\n",
        "import keras\n",
        "import pandas as pd\n",
        "import numpy as np\n",
        "from keras.models import Sequential\n",
        "from keras.layers import Dense\n",
        "from keras.layers import LSTM\n",
        "from keras.layers import Dropout\n",
        "from keras.layers import *\n",
        "from sklearn.preprocessing import MinMaxScaler\n",
        "from sklearn.metrics import mean_squared_error\n",
        "from sklearn.metrics import mean_absolute_error\n",
        "from sklearn.model_selection import train_test_split\n",
        "from keras.callbacks import EarlyStopping"
      ]
    },
    {
      "cell_type": "code",
      "source": [
        "#load and read the data\n",
        "url ='https://raw.githubusercontent.com/xjsh1997/STAT6289/main/TSLA.csv'\n",
        "df=pd.read_csv(url)\n",
        "print(\"Number of rows and columns:\", df.shape)\n",
        "df.head(5)\n",
        "\n",
        "#take the Close (at the 5th column of df) as the desired output\n",
        "#and extract the value in sequence according to the timestamp \n",
        "training_set = df.iloc[:800, 4:5].values\n",
        "test_set = df.iloc[800:, 4:5].values"
      ],
      "metadata": {
        "colab": {
          "base_uri": "https://localhost:8080/"
        },
        "id": "YF_2p55w96nj",
        "outputId": "9348265b-65d9-4cc4-a397-6502942cd8a4"
      },
      "execution_count": 4,
      "outputs": [
        {
          "output_type": "stream",
          "name": "stdout",
          "text": [
            "Number of rows and columns: (1259, 7)\n"
          ]
        }
      ]
    },
    {
      "cell_type": "code",
      "source": [
        "# Feature Scaling for the training part(1:800) in a range of [0,1]\n",
        "sc = MinMaxScaler(feature_range = (0, 1))\n",
        "training_set_scaled = sc.fit_transform(training_set)\n",
        "\n",
        "\n",
        "# Creating a data structure with 60 time-steps and 1 output\n",
        "X_train = []\n",
        "y_train = []\n",
        "#take a look back of 60 time step and we get 740 obs from training set\n",
        "for i in range(60, 800):\n",
        "    X_train.append(training_set_scaled[i-60:i, 0])\n",
        "    y_train.append(training_set_scaled[i, 0])\n",
        "X_train, y_train = np.array(X_train), np.array(y_train)\n",
        "X_train = np.reshape(X_train, (X_train.shape[0], X_train.shape[1], 1))\n",
        "#(740, 60, 1)\n"
      ],
      "metadata": {
        "id": "ktEfP4t5DPLe"
      },
      "execution_count": 5,
      "outputs": []
    },
    {
      "cell_type": "code",
      "source": [
        "model1 = Sequential()\n",
        "#Adding the first LSTM layer and some Dropout regularisation\n",
        "model1.add(LSTM(units = 50, return_sequences = True, input_shape = (X_train.shape[1], 1)))\n",
        "model1.add(Dropout(0.2))\n",
        "# Adding a second LSTM layer and some Dropout regularisation\n",
        "model1.add(LSTM(units = 50, return_sequences = True))\n",
        "model1.add(Dropout(0.2))\n",
        "# Adding a third LSTM layer and some Dropout regularisation\n",
        "model1.add(LSTM(units = 50, return_sequences = True))\n",
        "model1.add(Dropout(0.2))\n",
        "# Adding a fourth LSTM layer and some Dropout regularisation\n",
        "model1.add(LSTM(units = 50))\n",
        "model1.add(Dropout(0.2))\n",
        "# Adding the output layer\n",
        "model1.add(Dense(units = 1))\n",
        "\n",
        "# Compiling the RNN\n",
        "model1.compile(optimizer = 'adam', loss = 'mean_squared_error')\n",
        "\n",
        "# Fitting the RNN to the Training set\n",
        "model1.fit(X_train, y_train, epochs = 50, batch_size = 32)"
      ],
      "metadata": {
        "colab": {
          "base_uri": "https://localhost:8080/"
        },
        "id": "D4FtE2t8EUDT",
        "outputId": "89536345-94ae-4e07-f863-f8670766d36a"
      },
      "execution_count": 54,
      "outputs": [
        {
          "output_type": "stream",
          "name": "stdout",
          "text": [
            "Epoch 1/50\n",
            "24/24 [==============================] - 10s 121ms/step - loss: 0.0544\n",
            "Epoch 2/50\n",
            "24/24 [==============================] - 3s 122ms/step - loss: 0.0142\n",
            "Epoch 3/50\n",
            "24/24 [==============================] - 3s 123ms/step - loss: 0.0142\n",
            "Epoch 4/50\n",
            "24/24 [==============================] - 3s 122ms/step - loss: 0.0117\n",
            "Epoch 5/50\n",
            "24/24 [==============================] - 3s 122ms/step - loss: 0.0127\n",
            "Epoch 6/50\n",
            "24/24 [==============================] - 3s 121ms/step - loss: 0.0142\n",
            "Epoch 7/50\n",
            "24/24 [==============================] - 3s 122ms/step - loss: 0.0100\n",
            "Epoch 8/50\n",
            "24/24 [==============================] - 3s 121ms/step - loss: 0.0107\n",
            "Epoch 9/50\n",
            "24/24 [==============================] - 3s 122ms/step - loss: 0.0101\n",
            "Epoch 10/50\n",
            "24/24 [==============================] - 3s 124ms/step - loss: 0.0091\n",
            "Epoch 11/50\n",
            "24/24 [==============================] - 3s 122ms/step - loss: 0.0095\n",
            "Epoch 12/50\n",
            "24/24 [==============================] - 3s 122ms/step - loss: 0.0096\n",
            "Epoch 13/50\n",
            "24/24 [==============================] - 3s 124ms/step - loss: 0.0099\n",
            "Epoch 14/50\n",
            "24/24 [==============================] - 3s 124ms/step - loss: 0.0086\n",
            "Epoch 15/50\n",
            "24/24 [==============================] - 3s 121ms/step - loss: 0.0089\n",
            "Epoch 16/50\n",
            "24/24 [==============================] - 3s 122ms/step - loss: 0.0086\n",
            "Epoch 17/50\n",
            "24/24 [==============================] - 3s 124ms/step - loss: 0.0085\n",
            "Epoch 18/50\n",
            "24/24 [==============================] - 3s 122ms/step - loss: 0.0084\n",
            "Epoch 19/50\n",
            "24/24 [==============================] - 3s 124ms/step - loss: 0.0091\n",
            "Epoch 20/50\n",
            "24/24 [==============================] - 3s 124ms/step - loss: 0.0085\n",
            "Epoch 21/50\n",
            "24/24 [==============================] - 3s 123ms/step - loss: 0.0077\n",
            "Epoch 22/50\n",
            "24/24 [==============================] - 3s 122ms/step - loss: 0.0085\n",
            "Epoch 23/50\n",
            "24/24 [==============================] - 3s 123ms/step - loss: 0.0076\n",
            "Epoch 24/50\n",
            "24/24 [==============================] - 3s 124ms/step - loss: 0.0071\n",
            "Epoch 25/50\n",
            "24/24 [==============================] - 3s 122ms/step - loss: 0.0068\n",
            "Epoch 26/50\n",
            "24/24 [==============================] - 3s 121ms/step - loss: 0.0065\n",
            "Epoch 27/50\n",
            "24/24 [==============================] - 3s 125ms/step - loss: 0.0069\n",
            "Epoch 28/50\n",
            "24/24 [==============================] - 3s 123ms/step - loss: 0.0063\n",
            "Epoch 29/50\n",
            "24/24 [==============================] - 3s 123ms/step - loss: 0.0060\n",
            "Epoch 30/50\n",
            "24/24 [==============================] - 3s 123ms/step - loss: 0.0064\n",
            "Epoch 31/50\n",
            "24/24 [==============================] - 3s 126ms/step - loss: 0.0061\n",
            "Epoch 32/50\n",
            "24/24 [==============================] - 3s 123ms/step - loss: 0.0060\n",
            "Epoch 33/50\n",
            "24/24 [==============================] - 3s 121ms/step - loss: 0.0055\n",
            "Epoch 34/50\n",
            "24/24 [==============================] - 3s 123ms/step - loss: 0.0055\n",
            "Epoch 35/50\n",
            "24/24 [==============================] - 3s 123ms/step - loss: 0.0057\n",
            "Epoch 36/50\n",
            "24/24 [==============================] - 3s 123ms/step - loss: 0.0061\n",
            "Epoch 37/50\n",
            "24/24 [==============================] - 3s 123ms/step - loss: 0.0053\n",
            "Epoch 38/50\n",
            "24/24 [==============================] - 3s 126ms/step - loss: 0.0056\n",
            "Epoch 39/50\n",
            "24/24 [==============================] - 3s 123ms/step - loss: 0.0067\n",
            "Epoch 40/50\n",
            "24/24 [==============================] - 3s 122ms/step - loss: 0.0063\n",
            "Epoch 41/50\n",
            "24/24 [==============================] - 3s 124ms/step - loss: 0.0058\n",
            "Epoch 42/50\n",
            "24/24 [==============================] - 3s 122ms/step - loss: 0.0049\n",
            "Epoch 43/50\n",
            "24/24 [==============================] - 3s 124ms/step - loss: 0.0050\n",
            "Epoch 44/50\n",
            "24/24 [==============================] - 3s 126ms/step - loss: 0.0051\n",
            "Epoch 45/50\n",
            "24/24 [==============================] - 3s 122ms/step - loss: 0.0055\n",
            "Epoch 46/50\n",
            "24/24 [==============================] - 3s 123ms/step - loss: 0.0044\n",
            "Epoch 47/50\n",
            "24/24 [==============================] - 3s 123ms/step - loss: 0.0045\n",
            "Epoch 48/50\n",
            "24/24 [==============================] - 3s 123ms/step - loss: 0.0049\n",
            "Epoch 49/50\n",
            "24/24 [==============================] - 3s 122ms/step - loss: 0.0041\n",
            "Epoch 50/50\n",
            "24/24 [==============================] - 3s 123ms/step - loss: 0.0047\n"
          ]
        },
        {
          "output_type": "execute_result",
          "data": {
            "text/plain": [
              "<keras.callbacks.History at 0x7fea2d3a18d0>"
            ]
          },
          "metadata": {},
          "execution_count": 54
        }
      ]
    },
    {
      "cell_type": "code",
      "source": [
        "# Getting the predicted stock price of 2017\n",
        "dataset_train = df.iloc[:800, 4:5]\n",
        "dataset_test = df.iloc[800:, 4:5]\n",
        "dataset_total = pd.concat((dataset_train, dataset_test), axis = 0)\n",
        "inputs = dataset_total[len(dataset_total) - len(dataset_test) - 60:].values\n",
        "inputs = inputs.reshape(-1,1)\n",
        "inputs = sc.transform(inputs)\n",
        "X_test = []\n",
        "for i in range(60, 519):\n",
        "    X_test.append(inputs[i-60:i, 0])\n",
        "X_test = np.array(X_test)\n",
        "X_test = np.reshape(X_test, (X_test.shape[0], X_test.shape[1], 1))\n",
        "print(X_test.shape)\n",
        "\n",
        "dataset_train.head(5)"
      ],
      "metadata": {
        "colab": {
          "base_uri": "https://localhost:8080/",
          "height": 224
        },
        "id": "exDdEDhSFoTf",
        "outputId": "2ec82435-54a3-4a47-db79-cd4a0252d9f9"
      },
      "execution_count": 68,
      "outputs": [
        {
          "output_type": "stream",
          "name": "stdout",
          "text": [
            "(459, 60, 1)\n"
          ]
        },
        {
          "output_type": "execute_result",
          "data": {
            "text/plain": [
              "       Close\n",
              "0  51.830002\n",
              "1  52.431999\n",
              "2  53.130001\n",
              "3  52.627998\n",
              "4  53.335999"
            ],
            "text/html": [
              "\n",
              "  <div id=\"df-581a616e-d5d6-4399-af0a-495ed59b9acd\">\n",
              "    <div class=\"colab-df-container\">\n",
              "      <div>\n",
              "<style scoped>\n",
              "    .dataframe tbody tr th:only-of-type {\n",
              "        vertical-align: middle;\n",
              "    }\n",
              "\n",
              "    .dataframe tbody tr th {\n",
              "        vertical-align: top;\n",
              "    }\n",
              "\n",
              "    .dataframe thead th {\n",
              "        text-align: right;\n",
              "    }\n",
              "</style>\n",
              "<table border=\"1\" class=\"dataframe\">\n",
              "  <thead>\n",
              "    <tr style=\"text-align: right;\">\n",
              "      <th></th>\n",
              "      <th>Close</th>\n",
              "    </tr>\n",
              "  </thead>\n",
              "  <tbody>\n",
              "    <tr>\n",
              "      <th>0</th>\n",
              "      <td>51.830002</td>\n",
              "    </tr>\n",
              "    <tr>\n",
              "      <th>1</th>\n",
              "      <td>52.431999</td>\n",
              "    </tr>\n",
              "    <tr>\n",
              "      <th>2</th>\n",
              "      <td>53.130001</td>\n",
              "    </tr>\n",
              "    <tr>\n",
              "      <th>3</th>\n",
              "      <td>52.627998</td>\n",
              "    </tr>\n",
              "    <tr>\n",
              "      <th>4</th>\n",
              "      <td>53.335999</td>\n",
              "    </tr>\n",
              "  </tbody>\n",
              "</table>\n",
              "</div>\n",
              "      <button class=\"colab-df-convert\" onclick=\"convertToInteractive('df-581a616e-d5d6-4399-af0a-495ed59b9acd')\"\n",
              "              title=\"Convert this dataframe to an interactive table.\"\n",
              "              style=\"display:none;\">\n",
              "        \n",
              "  <svg xmlns=\"http://www.w3.org/2000/svg\" height=\"24px\"viewBox=\"0 0 24 24\"\n",
              "       width=\"24px\">\n",
              "    <path d=\"M0 0h24v24H0V0z\" fill=\"none\"/>\n",
              "    <path d=\"M18.56 5.44l.94 2.06.94-2.06 2.06-.94-2.06-.94-.94-2.06-.94 2.06-2.06.94zm-11 1L8.5 8.5l.94-2.06 2.06-.94-2.06-.94L8.5 2.5l-.94 2.06-2.06.94zm10 10l.94 2.06.94-2.06 2.06-.94-2.06-.94-.94-2.06-.94 2.06-2.06.94z\"/><path d=\"M17.41 7.96l-1.37-1.37c-.4-.4-.92-.59-1.43-.59-.52 0-1.04.2-1.43.59L10.3 9.45l-7.72 7.72c-.78.78-.78 2.05 0 2.83L4 21.41c.39.39.9.59 1.41.59.51 0 1.02-.2 1.41-.59l7.78-7.78 2.81-2.81c.8-.78.8-2.07 0-2.86zM5.41 20L4 18.59l7.72-7.72 1.47 1.35L5.41 20z\"/>\n",
              "  </svg>\n",
              "      </button>\n",
              "      \n",
              "  <style>\n",
              "    .colab-df-container {\n",
              "      display:flex;\n",
              "      flex-wrap:wrap;\n",
              "      gap: 12px;\n",
              "    }\n",
              "\n",
              "    .colab-df-convert {\n",
              "      background-color: #E8F0FE;\n",
              "      border: none;\n",
              "      border-radius: 50%;\n",
              "      cursor: pointer;\n",
              "      display: none;\n",
              "      fill: #1967D2;\n",
              "      height: 32px;\n",
              "      padding: 0 0 0 0;\n",
              "      width: 32px;\n",
              "    }\n",
              "\n",
              "    .colab-df-convert:hover {\n",
              "      background-color: #E2EBFA;\n",
              "      box-shadow: 0px 1px 2px rgba(60, 64, 67, 0.3), 0px 1px 3px 1px rgba(60, 64, 67, 0.15);\n",
              "      fill: #174EA6;\n",
              "    }\n",
              "\n",
              "    [theme=dark] .colab-df-convert {\n",
              "      background-color: #3B4455;\n",
              "      fill: #D2E3FC;\n",
              "    }\n",
              "\n",
              "    [theme=dark] .colab-df-convert:hover {\n",
              "      background-color: #434B5C;\n",
              "      box-shadow: 0px 1px 3px 1px rgba(0, 0, 0, 0.15);\n",
              "      filter: drop-shadow(0px 1px 2px rgba(0, 0, 0, 0.3));\n",
              "      fill: #FFFFFF;\n",
              "    }\n",
              "  </style>\n",
              "\n",
              "      <script>\n",
              "        const buttonEl =\n",
              "          document.querySelector('#df-581a616e-d5d6-4399-af0a-495ed59b9acd button.colab-df-convert');\n",
              "        buttonEl.style.display =\n",
              "          google.colab.kernel.accessAllowed ? 'block' : 'none';\n",
              "\n",
              "        async function convertToInteractive(key) {\n",
              "          const element = document.querySelector('#df-581a616e-d5d6-4399-af0a-495ed59b9acd');\n",
              "          const dataTable =\n",
              "            await google.colab.kernel.invokeFunction('convertToInteractive',\n",
              "                                                     [key], {});\n",
              "          if (!dataTable) return;\n",
              "\n",
              "          const docLinkHtml = 'Like what you see? Visit the ' +\n",
              "            '<a target=\"_blank\" href=https://colab.research.google.com/notebooks/data_table.ipynb>data table notebook</a>'\n",
              "            + ' to learn more about interactive tables.';\n",
              "          element.innerHTML = '';\n",
              "          dataTable['output_type'] = 'display_data';\n",
              "          await google.colab.output.renderOutput(dataTable, element);\n",
              "          const docLink = document.createElement('div');\n",
              "          docLink.innerHTML = docLinkHtml;\n",
              "          element.appendChild(docLink);\n",
              "        }\n",
              "      </script>\n",
              "    </div>\n",
              "  </div>\n",
              "  "
            ]
          },
          "metadata": {},
          "execution_count": 68
        }
      ]
    },
    {
      "cell_type": "code",
      "source": [
        "###make prediction\n",
        "predicted_stock_price = model1.predict(X_test)\n",
        "predicted_stock_price = sc.inverse_transform(predicted_stock_price)"
      ],
      "metadata": {
        "id": "MHbYSvGjHnRd"
      },
      "execution_count": 65,
      "outputs": []
    },
    {
      "cell_type": "code",
      "source": [
        "#visulize the result\n",
        "# Visualising the results\n",
        "plt.plot(df.loc[800:, 'Date'],dataset_test.values, color = 'red', label = 'Real TESLA Stock Price')\n",
        "plt.plot(df.loc[800:, 'Date'],predicted_stock_price, color = 'blue', label = 'Predicted TESLA Stock Price')\n",
        "plt.xticks(np.arange(0,459,100))\n",
        "plt.title('TESLA Stock Price Prediction')\n",
        "plt.xlabel('Time')\n",
        "plt.ylabel('TESLA Stock Price')\n",
        "plt.legend()\n",
        "plt.figure(figsize=(36,16), dpi=100)\n",
        "plt.show()"
      ],
      "metadata": {
        "colab": {
          "base_uri": "https://localhost:8080/",
          "height": 313
        },
        "id": "tqaoIPIIHtvJ",
        "outputId": "967eb498-95cc-4c21-ac58-b050f7835cd1"
      },
      "execution_count": 66,
      "outputs": [
        {
          "output_type": "display_data",
          "data": {
            "text/plain": [
              "<Figure size 432x288 with 1 Axes>"
            ],
            "image/png": "[encoded data removed]"
          },
          "metadata": {
            "needs_background": "light"
          }
        },
        {
          "output_type": "display_data",
          "data": {
            "text/plain": [
              "<Figure size 3600x1600 with 0 Axes>"
            ]
          },
          "metadata": {}
        }
      ]
    },
    {
      "cell_type": "markdown",
      "source": [
        "Prediction for future using lag = 1 day\n"
      ],
      "metadata": {
        "id": "eZjoWROuhq-V"
      }
    },
    {
      "cell_type": "code",
      "source": [
        "future_pred = sc.transform(dataset_test.values).copy()\n",
        "for i in range(100):\n",
        "    future_pred = np.append(future_pred, model1.predict(future_pred[-60:].reshape(1,-1,1))[0][0])\n",
        "future_pred = sc.inverse_transform(future_pred.reshape(-1,1))\n",
        "\n",
        "#visulize\n",
        "\n",
        "date = pd.date_range(start=\"2020-07-10\",end=\"2020-10-17\")\n",
        "date = list(date.strftime(\"%Y-%m-%d\"))\n",
        "\n",
        "plt.plot(df.loc[800:, 'Date'],dataset_test.values, color = 'red', label = 'Real TESLA Stock Price')\n",
        "plt.plot(df.loc[800:, 'Date'],predicted_stock_price, color = 'blue', label = 'Predicted TESLA Stock Price')\n",
        "plt.plot(date, future_pred[459:], '--', color = 'blue', label = 'future prediction TESLA Stock Price')\n",
        "plt.xticks(np.arange(0,459,100))\n",
        "plt.title('TESLA Stock Price Prediction')\n",
        "plt.xlabel('Time')\n",
        "plt.ylabel('TESLA Stock Price')\n",
        "plt.legend()\n",
        "plt.figure(figsize=(36,16), dpi=100)\n",
        "plt.show()"
      ],
      "metadata": {
        "id": "0gxU2PF8ht9H",
        "outputId": "245fb4fd-626c-4dd5-a633-941553815cd0",
        "colab": {
          "base_uri": "https://localhost:8080/",
          "height": 313
        }
      },
      "execution_count": 101,
      "outputs": [
        {
          "output_type": "display_data",
          "data": {
            "text/plain": [
              "<Figure size 432x288 with 1 Axes>"
            ],
            "image/png": "[encoded data removed]"
          },
          "metadata": {
            "needs_background": "light"
          }
        },
        {
          "output_type": "display_data",
          "data": {
            "text/plain": [
              "<Figure size 3600x1600 with 0 Axes>"
            ]
          },
          "metadata": {}
        }
      ]
    },
    {
      "cell_type": "markdown",
      "source": [
        "Time lag of 7"
      ],
      "metadata": {
        "id": "Vp91eGJ0hjYs"
      }
    },
    {
      "cell_type": "code",
      "source": [
        "### time lag of 7， we look back for 7 time stamp\n",
        "# Creating a data structure with 60 time-steps and 1 output\n",
        "X_train7 = []\n",
        "y_train7 = []\n",
        "#take a look back of 60 time step and we get 740 obs from training set\n",
        "for i in range(67, 800):\n",
        "    X_train7.append(training_set_scaled[i-67:i-7, 0])\n",
        "    y_train7.append(training_set_scaled[i, 0])\n",
        "X_train7, y_train7 = np.array(X_train7), np.array(y_train7)\n",
        "X_train7 = np.reshape(X_train7, (X_train7.shape[0], X_train7.shape[1], 1))\n",
        "print(X_train7.shape, y_train7.shape)\n"
      ],
      "metadata": {
        "id": "McsFjWDNgqFz",
        "outputId": "c3d03bd7-5fc5-4797-803c-7132df3c6a5d",
        "colab": {
          "base_uri": "https://localhost:8080/"
        }
      },
      "execution_count": 71,
      "outputs": [
        {
          "output_type": "stream",
          "name": "stdout",
          "text": [
            "(733, 60, 1) (733,)\n"
          ]
        }
      ]
    },
    {
      "cell_type": "code",
      "source": [
        "model_lag7 = Sequential()\n",
        "#Adding the first LSTM layer and some Dropout regularisation\n",
        "model_lag7.add(LSTM(units = 50, return_sequences = True, input_shape = (X_train7.shape[1], 1)))\n",
        "model_lag7.add(Dropout(0.2))\n",
        "# Adding a second LSTM layer and some Dropout regularisation\n",
        "model_lag7.add(LSTM(units = 50, return_sequences = True))\n",
        "model_lag7.add(Dropout(0.2))\n",
        "# Adding a third LSTM layer and some Dropout regularisation\n",
        "model_lag7.add(LSTM(units = 50, return_sequences = True))\n",
        "model_lag7.add(Dropout(0.2))\n",
        "# Adding a fourth LSTM layer and some Dropout regularisation\n",
        "model_lag7.add(LSTM(units = 50))\n",
        "model_lag7.add(Dropout(0.2))\n",
        "# Adding the output layer\n",
        "model_lag7.add(Dense(units = 1))\n",
        "\n",
        "# Compiling the RNN\n",
        "model_lag7.compile(optimizer = 'adam', loss = 'mean_squared_error')\n",
        "# Fitting the RNN to the Training set\n",
        "model_lag7.fit(X_train7, y_train7, epochs = 20, batch_size = 32)"
      ],
      "metadata": {
        "id": "eCSULdYjhep9",
        "outputId": "2e5a1961-53c6-4bf1-ff8e-d7c0d9087150",
        "colab": {
          "base_uri": "https://localhost:8080/"
        }
      },
      "execution_count": 72,
      "outputs": [
        {
          "output_type": "stream",
          "name": "stdout",
          "text": [
            "Epoch 1/20\n",
            "23/23 [==============================] - 11s 173ms/step - loss: 0.0660\n",
            "Epoch 2/20\n",
            "23/23 [==============================] - 3s 119ms/step - loss: 0.0242\n",
            "Epoch 3/20\n",
            "23/23 [==============================] - 3s 125ms/step - loss: 0.0178\n",
            "Epoch 4/20\n",
            "23/23 [==============================] - 3s 151ms/step - loss: 0.0181\n",
            "Epoch 5/20\n",
            "23/23 [==============================] - 3s 140ms/step - loss: 0.0169\n",
            "Epoch 6/20\n",
            "23/23 [==============================] - 6s 240ms/step - loss: 0.0163\n",
            "Epoch 7/20\n",
            "23/23 [==============================] - 5s 217ms/step - loss: 0.0163\n",
            "Epoch 8/20\n",
            "23/23 [==============================] - 3s 124ms/step - loss: 0.0153\n",
            "Epoch 9/20\n",
            "23/23 [==============================] - 3s 123ms/step - loss: 0.0160\n",
            "Epoch 10/20\n",
            "23/23 [==============================] - 3s 123ms/step - loss: 0.0155\n",
            "Epoch 11/20\n",
            "23/23 [==============================] - 3s 126ms/step - loss: 0.0156\n",
            "Epoch 12/20\n",
            "23/23 [==============================] - 3s 123ms/step - loss: 0.0143\n",
            "Epoch 13/20\n",
            "23/23 [==============================] - 3s 126ms/step - loss: 0.0156\n",
            "Epoch 14/20\n",
            "23/23 [==============================] - 3s 124ms/step - loss: 0.0167\n",
            "Epoch 15/20\n",
            "23/23 [==============================] - 3s 122ms/step - loss: 0.0157\n",
            "Epoch 16/20\n",
            "23/23 [==============================] - 3s 125ms/step - loss: 0.0143\n",
            "Epoch 17/20\n",
            "23/23 [==============================] - 3s 122ms/step - loss: 0.0144\n",
            "Epoch 18/20\n",
            "23/23 [==============================] - 3s 124ms/step - loss: 0.0145\n",
            "Epoch 19/20\n",
            "23/23 [==============================] - 3s 134ms/step - loss: 0.0142\n",
            "Epoch 20/20\n",
            "23/23 [==============================] - 4s 193ms/step - loss: 0.0135\n"
          ]
        },
        {
          "output_type": "execute_result",
          "data": {
            "text/plain": [
              "<keras.callbacks.History at 0x7fea21684890>"
            ]
          },
          "metadata": {},
          "execution_count": 72
        }
      ]
    },
    {
      "cell_type": "code",
      "source": [
        "predicted_stock_price_7 = model_lag7.predict(X_test)\n",
        "predicted_stock_price_7 = sc.inverse_transform(predicted_stock_price_7)\n"
      ],
      "metadata": {
        "id": "nI3VqJATiI14"
      },
      "execution_count": 75,
      "outputs": []
    },
    {
      "cell_type": "code",
      "source": [
        "#plot\n",
        "plt.plot(df.loc[800:, 'Date'],dataset_test.values, color = 'red', label = 'Real TESLA Stock Price')\n",
        "plt.plot(df.loc[800:, 'Date'],predicted_stock_price_7, color = 'blue', label = 'Predicted TESLA Stock Price_lag7')\n",
        "plt.xticks(np.arange(0,459,100))\n",
        "plt.title('TESLA Stock Price Prediction with lag7')\n",
        "plt.xlabel('Time')\n",
        "plt.ylabel('TESLA Stock Price')\n",
        "plt.legend()\n",
        "plt.figure(figsize=(36,16), dpi=100)\n",
        "plt.show()"
      ],
      "metadata": {
        "id": "Y5YbYxYpigYX",
        "outputId": "00bb6c60-2b6d-4ada-e01f-f67500c204d8",
        "colab": {
          "base_uri": "https://localhost:8080/",
          "height": 313
        }
      },
      "execution_count": 90,
      "outputs": [
        {
          "output_type": "display_data",
          "data": {
            "text/plain": [
              "<Figure size 432x288 with 1 Axes>"
            ],
            "image/png": "[encoded data removed]"
          },
          "metadata": {
            "needs_background": "light"
          }
        },
        {
          "output_type": "display_data",
          "data": {
            "text/plain": [
              "<Figure size 3600x1600 with 0 Axes>"
            ]
          },
          "metadata": {}
        }
      ]
    },
    {
      "cell_type": "markdown",
      "source": [
        "Time lag of 14 days"
      ],
      "metadata": {
        "id": "sMtuBqP6hnQA"
      }
    },
    {
      "cell_type": "code",
      "source": [
        "###time lag of 14 days trial \n",
        "#build the model3 for this time lag\n",
        "X_train14 = []\n",
        "y_train14 = []\n",
        "#take a look back of 60 time step and we get 740 obs from training set\n",
        "for i in range(74, 800):\n",
        "    X_train14.append(training_set_scaled[i-74:i-14, 0])\n",
        "    y_train14.append(training_set_scaled[i, 0])\n",
        "X_train14, y_train14 = np.array(X_train14), np.array(y_train14)\n",
        "X_train14 = np.reshape(X_train14, (X_train14.shape[0], X_train14.shape[1], 1))\n",
        "print(X_train14.shape, y_train14.shape)\n",
        "\n",
        "#build the model for lag=14 with 4 layers\n",
        "model_lag14 = Sequential()\n",
        "#Adding the first LSTM layer and some Dropout regularisation\n",
        "model_lag14.add(LSTM(units = 50, return_sequences = True, input_shape = (X_train14.shape[1], 1)))\n",
        "model_lag14.add(Dropout(0.2))\n",
        "# Adding a second LSTM layer and some Dropout regularisation\n",
        "model_lag14.add(LSTM(units = 50, return_sequences = True))\n",
        "model_lag14.add(Dropout(0.2))\n",
        "# Adding a third LSTM layer and some Dropout regularisation\n",
        "model_lag14.add(LSTM(units = 50, return_sequences = True))\n",
        "model_lag14.add(Dropout(0.2))\n",
        "# Adding a fourth LSTM layer and some Dropout regularisation\n",
        "model_lag14.add(LSTM(units = 50))\n",
        "model_lag14.add(Dropout(0.2))\n",
        "# Adding the output layer\n",
        "model_lag14.add(Dense(units = 1))\n",
        "\n",
        "# Compiling the RNN\n",
        "model_lag14.compile(optimizer = 'adam', loss = 'mean_squared_error')\n",
        "# Fitting the RNN to the Training set\n",
        "model_lag14.fit(X_train14, y_train14, epochs = 20, batch_size = 32)\n"
      ],
      "metadata": {
        "id": "lnLTdX7Z5jHq",
        "outputId": "3e1e27ec-8376-4dfe-9007-19c71b4fba15",
        "colab": {
          "base_uri": "https://localhost:8080/"
        }
      },
      "execution_count": 87,
      "outputs": [
        {
          "output_type": "stream",
          "name": "stdout",
          "text": [
            "(726, 60, 1) (726,)\n",
            "Epoch 1/20\n",
            "23/23 [==============================] - 9s 122ms/step - loss: 0.0601\n",
            "Epoch 2/20\n",
            "23/23 [==============================] - 3s 123ms/step - loss: 0.0253\n",
            "Epoch 3/20\n",
            "23/23 [==============================] - 3s 122ms/step - loss: 0.0203\n",
            "Epoch 4/20\n",
            "23/23 [==============================] - 3s 123ms/step - loss: 0.0213\n",
            "Epoch 5/20\n",
            "23/23 [==============================] - 3s 122ms/step - loss: 0.0183\n",
            "Epoch 6/20\n",
            "23/23 [==============================] - 3s 123ms/step - loss: 0.0185\n",
            "Epoch 7/20\n",
            "23/23 [==============================] - 3s 120ms/step - loss: 0.0194\n",
            "Epoch 8/20\n",
            "23/23 [==============================] - 3s 123ms/step - loss: 0.0193\n",
            "Epoch 9/20\n",
            "23/23 [==============================] - 3s 123ms/step - loss: 0.0183\n",
            "Epoch 10/20\n",
            "23/23 [==============================] - 3s 126ms/step - loss: 0.0191\n",
            "Epoch 11/20\n",
            "23/23 [==============================] - 3s 124ms/step - loss: 0.0181\n",
            "Epoch 12/20\n",
            "23/23 [==============================] - 3s 124ms/step - loss: 0.0200\n",
            "Epoch 13/20\n",
            "23/23 [==============================] - 3s 127ms/step - loss: 0.0193\n",
            "Epoch 14/20\n",
            "23/23 [==============================] - 3s 122ms/step - loss: 0.0187\n",
            "Epoch 15/20\n",
            "23/23 [==============================] - 3s 124ms/step - loss: 0.0187\n",
            "Epoch 16/20\n",
            "23/23 [==============================] - 3s 121ms/step - loss: 0.0177\n",
            "Epoch 17/20\n",
            "23/23 [==============================] - 3s 148ms/step - loss: 0.0176\n",
            "Epoch 18/20\n",
            "23/23 [==============================] - 3s 123ms/step - loss: 0.0167\n",
            "Epoch 19/20\n",
            "23/23 [==============================] - 3s 121ms/step - loss: 0.0179\n",
            "Epoch 20/20\n",
            "23/23 [==============================] - 3s 125ms/step - loss: 0.0183\n"
          ]
        },
        {
          "output_type": "execute_result",
          "data": {
            "text/plain": [
              "<keras.callbacks.History at 0x7fea335aca10>"
            ]
          },
          "metadata": {},
          "execution_count": 87
        }
      ]
    },
    {
      "cell_type": "code",
      "source": [
        "#predict\n",
        "predicted_stock_price_14 = model_lag14.predict(X_test)\n",
        "predicted_stock_price_14 = sc.inverse_transform(predicted_stock_price_14)\n",
        "#plot\n",
        "plt.plot(df.loc[800:, 'Date'],dataset_test.values, color = 'red', label = 'Real TESLA Stock Price')\n",
        "plt.plot(df.loc[800:, 'Date'],predicted_stock_price_14, color = 'blue', label = 'Predicted TESLA Stock Price_lag14')\n",
        "plt.xticks(np.arange(0,459,100))\n",
        "plt.title('TESLA Stock Price Prediction with lag14')\n",
        "plt.xlabel('Time')\n",
        "plt.ylabel('TESLA Stock Price')\n",
        "plt.legend()\n",
        "plt.figure(figsize=(36,16), dpi=100)\n",
        "plt.show()"
      ],
      "metadata": {
        "id": "fNuXxDWWgdPW",
        "outputId": "487bcd0f-cd10-4ee9-cc88-94db033dea93",
        "colab": {
          "base_uri": "https://localhost:8080/",
          "height": 313
        }
      },
      "execution_count": 89,
      "outputs": [
        {
          "output_type": "display_data",
          "data": {
            "text/plain": [
              "<Figure size 432x288 with 1 Axes>"
            ],
            "image/png": "[encoded data removed]"
          },
          "metadata": {
            "needs_background": "light"
          }
        },
        {
          "output_type": "display_data",
          "data": {
            "text/plain": [
              "<Figure size 3600x1600 with 0 Axes>"
            ]
          },
          "metadata": {}
        }
      ]
    }
  ]
}