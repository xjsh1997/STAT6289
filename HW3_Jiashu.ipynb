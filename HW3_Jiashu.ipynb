{
  "nbformat": 4,
  "nbformat_minor": 0,
  "metadata": {
    "colab": {
      "name": "HW3_Jiashu.ipynb",
      "provenance": [],
      "authorship_tag": "ABX9TyPNDtFIQZiD6J651KyNH/yM",
      "include_colab_link": true
    },
    "kernelspec": {
      "name": "python3",
      "display_name": "Python 3"
    },
    "language_info": {
      "name": "python"
    }
  },
  "cells": [
    {
      "cell_type": "markdown",
      "metadata": {
        "id": "view-in-github",
        "colab_type": "text"
      },
      "source": [
        "<a href=\"https://colab.research.google.com/github/xjsh1997/STAT6289/blob/main/HW3_Jiashu.ipynb\" target=\"_parent\"><img src=\"https://colab.research.google.com/assets/colab-badge.svg\" alt=\"Open In Colab\"/></a>"
      ]
    },
    {
      "cell_type": "code",
      "execution_count": 8,
      "metadata": {
        "id": "GNoQ5mWe9clG"
      },
      "outputs": [],
      "source": [
        "#import package\n",
        "import math\n",
        "import matplotlib.pyplot as plt\n",
        "import keras\n",
        "import pandas as pd\n",
        "import numpy as np\n",
        "from keras.models import Sequential\n",
        "from keras.layers import Dense\n",
        "from keras.layers import LSTM\n",
        "from keras.layers import Dropout\n",
        "from keras.layers import *\n",
        "from sklearn.preprocessing import MinMaxScaler\n",
        "from sklearn.metrics import mean_squared_error\n",
        "from sklearn.metrics import mean_absolute_error\n",
        "from sklearn.model_selection import train_test_split\n",
        "from keras.callbacks import EarlyStopping"
      ]
    },
    {
      "cell_type": "code",
      "source": [
        "#load and read the data\n",
        "url ='https://raw.githubusercontent.com/xjsh1997/STAT6289/main/TSLA.csv'\n",
        "df=pd.read_csv(url)\n",
        "print(\"Number of rows and columns:\", df.shape)\n",
        "df.head(5)\n",
        "\n",
        "#take the Close (at the 5th column of df) as the desired output\n",
        "#and extract the value in sequence according to the timestamp \n",
        "training_set = df.iloc[:800, 4:5].values\n",
        "test_set = df.iloc[800:, 4:5].values"
      ],
      "metadata": {
        "colab": {
          "base_uri": "https://localhost:8080/"
        },
        "id": "YF_2p55w96nj",
        "outputId": "ec5b6594-0e62-4285-dec9-f841a2a9150e"
      },
      "execution_count": 33,
      "outputs": [
        {
          "output_type": "stream",
          "name": "stdout",
          "text": [
            "Number of rows and columns: (1259, 7)\n"
          ]
        }
      ]
    },
    {
      "cell_type": "code",
      "source": [
        "# Feature Scaling for the training part(1:800) in a range of [0,1]\n",
        "sc = MinMaxScaler(feature_range = (0, 1))\n",
        "training_set_scaled = sc.fit_transform(training_set)\n",
        "\n",
        "\n",
        "# Creating a data structure with 60 time-steps and 1 output\n",
        "X_train = []\n",
        "y_train = []\n",
        "#take a look back of 60 time step and we get 740 obs from training set\n",
        "for i in range(60, 800):\n",
        "    X_train.append(training_set_scaled[i-60:i, 0])\n",
        "    y_train.append(training_set_scaled[i, 0])\n",
        "X_train, y_train = np.array(X_train), np.array(y_train)\n",
        "X_train = np.reshape(X_train, (X_train.shape[0], X_train.shape[1], 1))\n",
        "#(740, 60, 1)\n"
      ],
      "metadata": {
        "id": "ktEfP4t5DPLe"
      },
      "execution_count": 34,
      "outputs": []
    },
    {
      "cell_type": "code",
      "source": [
        "model1 = Sequential()\n",
        "#Adding the first LSTM layer and some Dropout regularisation\n",
        "model1.add(LSTM(units = 50, return_sequences = True, input_shape = (X_train.shape[1], 1)))\n",
        "model1.add(Dropout(0.2))\n",
        "# Adding a second LSTM layer and some Dropout regularisation\n",
        "model1.add(LSTM(units = 50, return_sequences = True))\n",
        "model1.add(Dropout(0.2))\n",
        "# Adding a third LSTM layer and some Dropout regularisation\n",
        "model1.add(LSTM(units = 50, return_sequences = True))\n",
        "model1.add(Dropout(0.2))\n",
        "# Adding a fourth LSTM layer and some Dropout regularisation\n",
        "model1.add(LSTM(units = 50))\n",
        "model1.add(Dropout(0.2))\n",
        "# Adding the output layer\n",
        "model1.add(Dense(units = 1))\n",
        "\n",
        "# Compiling the RNN\n",
        "model1.compile(optimizer = 'adam', loss = 'mean_squared_error')\n",
        "\n",
        "# Fitting the RNN to the Training set\n",
        "model1.fit(X_train, y_train, epochs = 50, batch_size = 32)"
      ],
      "metadata": {
        "colab": {
          "base_uri": "https://localhost:8080/"
        },
        "id": "D4FtE2t8EUDT",
        "outputId": "a37f272c-e726-4d7c-8bf7-246cb8e9b09d"
      },
      "execution_count": 22,
      "outputs": [
        {
          "output_type": "stream",
          "name": "stdout",
          "text": [
            "Epoch 1/50\n",
            "24/24 [==============================] - 11s 136ms/step - loss: 0.0731\n",
            "Epoch 2/50\n",
            "24/24 [==============================] - 3s 132ms/step - loss: 0.0204\n",
            "Epoch 3/50\n",
            "24/24 [==============================] - 3s 130ms/step - loss: 0.0148\n",
            "Epoch 4/50\n",
            "24/24 [==============================] - 3s 129ms/step - loss: 0.0124\n",
            "Epoch 5/50\n",
            "24/24 [==============================] - 3s 132ms/step - loss: 0.0130\n",
            "Epoch 6/50\n",
            "24/24 [==============================] - 3s 124ms/step - loss: 0.0135\n",
            "Epoch 7/50\n",
            "24/24 [==============================] - 3s 130ms/step - loss: 0.0123\n",
            "Epoch 8/50\n",
            "24/24 [==============================] - 3s 126ms/step - loss: 0.0111\n",
            "Epoch 9/50\n",
            "24/24 [==============================] - 3s 128ms/step - loss: 0.0114\n",
            "Epoch 10/50\n",
            "24/24 [==============================] - 3s 124ms/step - loss: 0.0116\n",
            "Epoch 11/50\n",
            "24/24 [==============================] - 3s 137ms/step - loss: 0.0108\n",
            "Epoch 12/50\n",
            "24/24 [==============================] - 3s 127ms/step - loss: 0.0107\n",
            "Epoch 13/50\n",
            "24/24 [==============================] - 3s 129ms/step - loss: 0.0102\n",
            "Epoch 14/50\n",
            "24/24 [==============================] - 3s 128ms/step - loss: 0.0102\n",
            "Epoch 15/50\n",
            "24/24 [==============================] - 3s 136ms/step - loss: 0.0096\n",
            "Epoch 16/50\n",
            "24/24 [==============================] - 3s 130ms/step - loss: 0.0086\n",
            "Epoch 17/50\n",
            "24/24 [==============================] - 3s 135ms/step - loss: 0.0097\n",
            "Epoch 18/50\n",
            "24/24 [==============================] - 3s 131ms/step - loss: 0.0087\n",
            "Epoch 19/50\n",
            "24/24 [==============================] - 3s 130ms/step - loss: 0.0079\n",
            "Epoch 20/50\n",
            "24/24 [==============================] - 3s 132ms/step - loss: 0.0079\n",
            "Epoch 21/50\n",
            "24/24 [==============================] - 3s 136ms/step - loss: 0.0075\n",
            "Epoch 22/50\n",
            "24/24 [==============================] - 3s 133ms/step - loss: 0.0084\n",
            "Epoch 23/50\n",
            "24/24 [==============================] - 3s 131ms/step - loss: 0.0075\n",
            "Epoch 24/50\n",
            "24/24 [==============================] - 3s 129ms/step - loss: 0.0068\n",
            "Epoch 25/50\n",
            "24/24 [==============================] - 3s 131ms/step - loss: 0.0073\n",
            "Epoch 26/50\n",
            "24/24 [==============================] - 4s 165ms/step - loss: 0.0071\n",
            "Epoch 27/50\n",
            "24/24 [==============================] - 3s 139ms/step - loss: 0.0065\n",
            "Epoch 28/50\n",
            "24/24 [==============================] - 3s 132ms/step - loss: 0.0069\n",
            "Epoch 29/50\n",
            "24/24 [==============================] - 3s 129ms/step - loss: 0.0069\n",
            "Epoch 30/50\n",
            "24/24 [==============================] - 3s 139ms/step - loss: 0.0066\n",
            "Epoch 31/50\n",
            "24/24 [==============================] - 3s 135ms/step - loss: 0.0065\n",
            "Epoch 32/50\n",
            "24/24 [==============================] - 3s 126ms/step - loss: 0.0061\n",
            "Epoch 33/50\n",
            "24/24 [==============================] - 3s 124ms/step - loss: 0.0069\n",
            "Epoch 34/50\n",
            "24/24 [==============================] - 3s 132ms/step - loss: 0.0068\n",
            "Epoch 35/50\n",
            "24/24 [==============================] - 3s 133ms/step - loss: 0.0057\n",
            "Epoch 36/50\n",
            "24/24 [==============================] - 3s 135ms/step - loss: 0.0059\n",
            "Epoch 37/50\n",
            "24/24 [==============================] - 3s 127ms/step - loss: 0.0055\n",
            "Epoch 38/50\n",
            "24/24 [==============================] - 3s 130ms/step - loss: 0.0054\n",
            "Epoch 39/50\n",
            "24/24 [==============================] - 3s 131ms/step - loss: 0.0059\n",
            "Epoch 40/50\n",
            "24/24 [==============================] - 3s 133ms/step - loss: 0.0059\n",
            "Epoch 41/50\n",
            "24/24 [==============================] - 3s 133ms/step - loss: 0.0048\n",
            "Epoch 42/50\n",
            "24/24 [==============================] - 3s 122ms/step - loss: 0.0051\n",
            "Epoch 43/50\n",
            "24/24 [==============================] - 3s 136ms/step - loss: 0.0047\n",
            "Epoch 44/50\n",
            "24/24 [==============================] - 3s 122ms/step - loss: 0.0049\n",
            "Epoch 45/50\n",
            "24/24 [==============================] - 3s 134ms/step - loss: 0.0056\n",
            "Epoch 46/50\n",
            "24/24 [==============================] - 3s 135ms/step - loss: 0.0049\n",
            "Epoch 47/50\n",
            "24/24 [==============================] - 3s 135ms/step - loss: 0.0045\n",
            "Epoch 48/50\n",
            "24/24 [==============================] - 3s 132ms/step - loss: 0.0047\n",
            "Epoch 49/50\n",
            "24/24 [==============================] - 3s 124ms/step - loss: 0.0052\n",
            "Epoch 50/50\n",
            "24/24 [==============================] - 4s 184ms/step - loss: 0.0043\n"
          ]
        },
        {
          "output_type": "execute_result",
          "data": {
            "text/plain": [
              "<keras.callbacks.History at 0x7f817e840890>"
            ]
          },
          "metadata": {},
          "execution_count": 22
        }
      ]
    },
    {
      "cell_type": "code",
      "source": [
        "# Getting the predicted stock price of 2017\n",
        "dataset_train = df.iloc[:800, 1:2]\n",
        "dataset_test = df.iloc[800:, 1:2]\n",
        "dataset_total = pd.concat((dataset_train, dataset_test), axis = 0)\n",
        "inputs = dataset_total[len(dataset_total) - len(dataset_test) - 60:].values\n",
        "inputs = inputs.reshape(-1,1)\n",
        "inputs = sc.transform(inputs)\n",
        "X_test = []\n",
        "for i in range(60, 519):\n",
        "    X_test.append(inputs[i-60:i, 0])\n",
        "X_test = np.array(X_test)\n",
        "X_test = np.reshape(X_test, (X_test.shape[0], X_test.shape[1], 1))\n",
        "print(X_test.shape)\n",
        "\n",
        "dataset_train.head(5)"
      ],
      "metadata": {
        "colab": {
          "base_uri": "https://localhost:8080/",
          "height": 224
        },
        "id": "exDdEDhSFoTf",
        "outputId": "1640acea-1d41-4900-8cf0-addbfde27e18"
      },
      "execution_count": 26,
      "outputs": [
        {
          "output_type": "stream",
          "name": "stdout",
          "text": [
            "(459, 60, 1)\n"
          ]
        },
        {
          "output_type": "execute_result",
          "data": {
            "text/plain": [
              "        Open\n",
              "0  52.444000\n",
              "1  52.450001\n",
              "2  52.419998\n",
              "3  53.348000\n",
              "4  52.844002"
            ],
            "text/html": [
              "\n",
              "  <div id=\"df-efe052cd-2882-4c2c-9408-5a6defcbdffd\">\n",
              "    <div class=\"colab-df-container\">\n",
              "      <div>\n",
              "<style scoped>\n",
              "    .dataframe tbody tr th:only-of-type {\n",
              "        vertical-align: middle;\n",
              "    }\n",
              "\n",
              "    .dataframe tbody tr th {\n",
              "        vertical-align: top;\n",
              "    }\n",
              "\n",
              "    .dataframe thead th {\n",
              "        text-align: right;\n",
              "    }\n",
              "</style>\n",
              "<table border=\"1\" class=\"dataframe\">\n",
              "  <thead>\n",
              "    <tr style=\"text-align: right;\">\n",
              "      <th></th>\n",
              "      <th>Open</th>\n",
              "    </tr>\n",
              "  </thead>\n",
              "  <tbody>\n",
              "    <tr>\n",
              "      <th>0</th>\n",
              "      <td>52.444000</td>\n",
              "    </tr>\n",
              "    <tr>\n",
              "      <th>1</th>\n",
              "      <td>52.450001</td>\n",
              "    </tr>\n",
              "    <tr>\n",
              "      <th>2</th>\n",
              "      <td>52.419998</td>\n",
              "    </tr>\n",
              "    <tr>\n",
              "      <th>3</th>\n",
              "      <td>53.348000</td>\n",
              "    </tr>\n",
              "    <tr>\n",
              "      <th>4</th>\n",
              "      <td>52.844002</td>\n",
              "    </tr>\n",
              "  </tbody>\n",
              "</table>\n",
              "</div>\n",
              "      <button class=\"colab-df-convert\" onclick=\"convertToInteractive('df-efe052cd-2882-4c2c-9408-5a6defcbdffd')\"\n",
              "              title=\"Convert this dataframe to an interactive table.\"\n",
              "              style=\"display:none;\">\n",
              "        \n",
              "  <svg xmlns=\"http://www.w3.org/2000/svg\" height=\"24px\"viewBox=\"0 0 24 24\"\n",
              "       width=\"24px\">\n",
              "    <path d=\"M0 0h24v24H0V0z\" fill=\"none\"/>\n",
              "    <path d=\"M18.56 5.44l.94 2.06.94-2.06 2.06-.94-2.06-.94-.94-2.06-.94 2.06-2.06.94zm-11 1L8.5 8.5l.94-2.06 2.06-.94-2.06-.94L8.5 2.5l-.94 2.06-2.06.94zm10 10l.94 2.06.94-2.06 2.06-.94-2.06-.94-.94-2.06-.94 2.06-2.06.94z\"/><path d=\"M17.41 7.96l-1.37-1.37c-.4-.4-.92-.59-1.43-.59-.52 0-1.04.2-1.43.59L10.3 9.45l-7.72 7.72c-.78.78-.78 2.05 0 2.83L4 21.41c.39.39.9.59 1.41.59.51 0 1.02-.2 1.41-.59l7.78-7.78 2.81-2.81c.8-.78.8-2.07 0-2.86zM5.41 20L4 18.59l7.72-7.72 1.47 1.35L5.41 20z\"/>\n",
              "  </svg>\n",
              "      </button>\n",
              "      \n",
              "  <style>\n",
              "    .colab-df-container {\n",
              "      display:flex;\n",
              "      flex-wrap:wrap;\n",
              "      gap: 12px;\n",
              "    }\n",
              "\n",
              "    .colab-df-convert {\n",
              "      background-color: #E8F0FE;\n",
              "      border: none;\n",
              "      border-radius: 50%;\n",
              "      cursor: pointer;\n",
              "      display: none;\n",
              "      fill: #1967D2;\n",
              "      height: 32px;\n",
              "      padding: 0 0 0 0;\n",
              "      width: 32px;\n",
              "    }\n",
              "\n",
              "    .colab-df-convert:hover {\n",
              "      background-color: #E2EBFA;\n",
              "      box-shadow: 0px 1px 2px rgba(60, 64, 67, 0.3), 0px 1px 3px 1px rgba(60, 64, 67, 0.15);\n",
              "      fill: #174EA6;\n",
              "    }\n",
              "\n",
              "    [theme=dark] .colab-df-convert {\n",
              "      background-color: #3B4455;\n",
              "      fill: #D2E3FC;\n",
              "    }\n",
              "\n",
              "    [theme=dark] .colab-df-convert:hover {\n",
              "      background-color: #434B5C;\n",
              "      box-shadow: 0px 1px 3px 1px rgba(0, 0, 0, 0.15);\n",
              "      filter: drop-shadow(0px 1px 2px rgba(0, 0, 0, 0.3));\n",
              "      fill: #FFFFFF;\n",
              "    }\n",
              "  </style>\n",
              "\n",
              "      <script>\n",
              "        const buttonEl =\n",
              "          document.querySelector('#df-efe052cd-2882-4c2c-9408-5a6defcbdffd button.colab-df-convert');\n",
              "        buttonEl.style.display =\n",
              "          google.colab.kernel.accessAllowed ? 'block' : 'none';\n",
              "\n",
              "        async function convertToInteractive(key) {\n",
              "          const element = document.querySelector('#df-efe052cd-2882-4c2c-9408-5a6defcbdffd');\n",
              "          const dataTable =\n",
              "            await google.colab.kernel.invokeFunction('convertToInteractive',\n",
              "                                                     [key], {});\n",
              "          if (!dataTable) return;\n",
              "\n",
              "          const docLinkHtml = 'Like what you see? Visit the ' +\n",
              "            '<a target=\"_blank\" href=https://colab.research.google.com/notebooks/data_table.ipynb>data table notebook</a>'\n",
              "            + ' to learn more about interactive tables.';\n",
              "          element.innerHTML = '';\n",
              "          dataTable['output_type'] = 'display_data';\n",
              "          await google.colab.output.renderOutput(dataTable, element);\n",
              "          const docLink = document.createElement('div');\n",
              "          docLink.innerHTML = docLinkHtml;\n",
              "          element.appendChild(docLink);\n",
              "        }\n",
              "      </script>\n",
              "    </div>\n",
              "  </div>\n",
              "  "
            ]
          },
          "metadata": {},
          "execution_count": 26
        }
      ]
    },
    {
      "cell_type": "code",
      "source": [
        "###make prediction\n",
        "predicted_stock_price = model1.predict(X_test)\n",
        "predicted_stock_price = sc.inverse_transform(predicted_stock_price)"
      ],
      "metadata": {
        "id": "MHbYSvGjHnRd"
      },
      "execution_count": 23,
      "outputs": []
    },
    {
      "cell_type": "code",
      "source": [
        "#visulize the result\n",
        "# Visualising the results\n",
        "plt.plot(df.loc[800:, 'Date'],dataset_test.values, color = 'red', label = 'Real TESLA Stock Price')\n",
        "plt.plot(df.loc[800:, 'Date'],predicted_stock_price, color = 'blue', label = 'Predicted TESLA Stock Price')\n",
        "plt.xticks(np.arange(0,459,50))\n",
        "plt.title('TESLA Stock Price Prediction')\n",
        "plt.xlabel('Time')\n",
        "plt.ylabel('TESLA Stock Price')\n",
        "plt.legend()\n",
        "plt.show()"
      ],
      "metadata": {
        "colab": {
          "base_uri": "https://localhost:8080/",
          "height": 295
        },
        "id": "tqaoIPIIHtvJ",
        "outputId": "20692172-e973-4c02-d2ed-02c764dc76af"
      },
      "execution_count": 25,
      "outputs": [
        {
          "output_type": "display_data",
          "data": {
            "text/plain": [
              "<Figure size 432x288 with 1 Axes>"
            ],
            "image/png": "[encoded data removed]"
          },
          "metadata": {
            "needs_background": "light"
          }
        }
      ]
    }
  ]
}