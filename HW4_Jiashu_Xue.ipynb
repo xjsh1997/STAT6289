{
  "nbformat": 4,
  "nbformat_minor": 0,
  "metadata": {
    "colab": {
      "name": "HW4_Jiashu Xue.ipynb",
      "provenance": [],
      "authorship_tag": "ABX9TyM04iFOs4TvGUh7LyYlqWbJ",
      "include_colab_link": true
    },
    "kernelspec": {
      "name": "python3",
      "display_name": "Python 3"
    },
    "language_info": {
      "name": "python"
    }
  },
  "cells": [
    {
      "cell_type": "markdown",
      "metadata": {
        "id": "view-in-github",
        "colab_type": "text"
      },
      "source": [
        "<a href=\"https://colab.research.google.com/github/xjsh1997/STAT6289/blob/main/HW4_Jiashu_Xue.ipynb\" target=\"_parent\"><img src=\"https://colab.research.google.com/assets/colab-badge.svg\" alt=\"Open In Colab\"/></a>"
      ]
    },
    {
      "cell_type": "markdown",
      "source": [
        "**Install the package and set the vector**"
      ],
      "metadata": {
        "id": "PFTh39E58rjp"
      }
    },
    {
      "cell_type": "code",
      "execution_count": 1,
      "metadata": {
        "colab": {
          "base_uri": "https://localhost:8080/"
        },
        "id": "qzaqHcaAem6R",
        "outputId": "bfe7a6fb-71e0-4bd8-d264-0709f855a604"
      },
      "outputs": [
        {
          "output_type": "stream",
          "name": "stdout",
          "text": [
            "Installing Magnitude.... (please wait, can take a while)\n",
            "  % Total    % Received % Xferd  Average Speed   Time    Time     Time  Current\n",
            "                                 Dload  Upload   Total   Spent    Left  Speed\n",
            "100   137  100   137    0     0    895      0 --:--:-- --:--:-- --:--:--   895\n",
            "Done installing Magnitude.\n"
          ]
        }
      ],
      "source": [
        "# Install Magnitude on Google Colab\n",
        "! echo \"Installing Magnitude.... (please wait, can take a while)\"\n",
        "! (curl https://raw.githubusercontent.com/plasticityai/magnitude/master/install-colab.sh | /bin/bash 1>/dev/null 2>/dev/null)\n",
        "! echo \"Done installing Magnitude.\""
      ]
    },
    {
      "cell_type": "code",
      "source": [
        "from google.colab import drive\n",
        "import sys\n",
        "\n",
        "# Mount Google Drive\n",
        "drive.mount('/content/drive')"
      ],
      "metadata": {
        "colab": {
          "base_uri": "https://localhost:8080/"
        },
        "id": "5-JW8g3qf1uY",
        "outputId": "626c3aad-93a9-4b49-b734-ce6759c3b8e0"
      },
      "execution_count": 23,
      "outputs": [
        {
          "output_type": "stream",
          "name": "stdout",
          "text": [
            "Drive already mounted at /content/drive; to attempt to forcibly remount, call drive.mount(\"/content/drive\", force_remount=True).\n"
          ]
        }
      ]
    },
    {
      "cell_type": "code",
      "source": [
        "from pymagnitude import *\n",
        "file_path = '/content/drive/My Drive/Colab Notebooks/GoogleNews-vectors-negative300.magnitude'\n",
        "vectors = Magnitude(file_path)"
      ],
      "metadata": {
        "id": "i_bU1HX5koLI"
      },
      "execution_count": 27,
      "outputs": []
    },
    {
      "cell_type": "code",
      "source": [
        "!pip install pymagnitude flask"
      ],
      "metadata": {
        "colab": {
          "base_uri": "https://localhost:8080/"
        },
        "id": "87jr25nvlCSH",
        "outputId": "0cdfa085-b25e-47e8-ad00-33564ebae137"
      },
      "execution_count": 28,
      "outputs": [
        {
          "output_type": "stream",
          "name": "stdout",
          "text": [
            "Requirement already satisfied: pymagnitude in /usr/local/lib/python3.7/dist-packages (0.1.143)\n",
            "Requirement already satisfied: flask in /usr/local/lib/python3.7/dist-packages (1.1.4)\n",
            "Requirement already satisfied: numpy>=1.14.0 in /usr/local/lib/python3.7/dist-packages (from pymagnitude) (1.21.5)\n",
            "Requirement already satisfied: xxhash>=1.0.1 in /usr/local/lib/python3.7/dist-packages (from pymagnitude) (3.0.0)\n",
            "Requirement already satisfied: fasteners>=0.14.1 in /usr/local/lib/python3.7/dist-packages (from pymagnitude) (0.15)\n",
            "Requirement already satisfied: annoy>=1.11.4 in /usr/local/lib/python3.7/dist-packages (from pymagnitude) (1.17.0)\n",
            "Requirement already satisfied: lz4>=1.0.0 in /usr/local/lib/python3.7/dist-packages (from pymagnitude) (4.0.0)\n",
            "Requirement already satisfied: h5py>=2.8.0 in /usr/local/lib/python3.7/dist-packages (from pymagnitude) (3.1.0)\n",
            "Requirement already satisfied: torch in /usr/local/lib/python3.7/dist-packages (from pymagnitude) (1.10.0+cu111)\n",
            "Requirement already satisfied: six in /usr/local/lib/python3.7/dist-packages (from fasteners>=0.14.1->pymagnitude) (1.16.0)\n",
            "Requirement already satisfied: monotonic>=0.1 in /usr/local/lib/python3.7/dist-packages (from fasteners>=0.14.1->pymagnitude) (1.6)\n",
            "Requirement already satisfied: cached-property in /usr/local/lib/python3.7/dist-packages (from h5py>=2.8.0->pymagnitude) (1.5.2)\n",
            "Requirement already satisfied: Jinja2<3.0,>=2.10.1 in /usr/local/lib/python3.7/dist-packages (from flask) (2.11.3)\n",
            "Requirement already satisfied: itsdangerous<2.0,>=0.24 in /usr/local/lib/python3.7/dist-packages (from flask) (1.1.0)\n",
            "Requirement already satisfied: Werkzeug<2.0,>=0.15 in /usr/local/lib/python3.7/dist-packages (from flask) (1.0.1)\n",
            "Requirement already satisfied: click<8.0,>=5.1 in /usr/local/lib/python3.7/dist-packages (from flask) (7.1.2)\n",
            "Requirement already satisfied: MarkupSafe>=0.23 in /usr/local/lib/python3.7/dist-packages (from Jinja2<3.0,>=2.10.1->flask) (2.0.1)\n",
            "Requirement already satisfied: typing-extensions in /usr/local/lib/python3.7/dist-packages (from torch->pymagnitude) (3.10.0.2)\n"
          ]
        }
      ]
    },
    {
      "cell_type": "code",
      "source": [
        "vectors.distance(\"cat\",\"dog\")"
      ],
      "metadata": {
        "colab": {
          "base_uri": "https://localhost:8080/"
        },
        "id": "E1Zurtzx8o2c",
        "outputId": "14e3b93c-4ca6-4548-dca4-199e5ec9cfdd"
      },
      "execution_count": 29,
      "outputs": [
        {
          "output_type": "execute_result",
          "data": {
            "text/plain": [
              "0.69145405"
            ]
          },
          "metadata": {},
          "execution_count": 29
        }
      ]
    },
    {
      "cell_type": "markdown",
      "source": [
        "**Question 1: What is the dimensionality of these word embeddings? Provide an integer answer.**"
      ],
      "metadata": {
        "id": "cqGMCX8M8y_y"
      }
    },
    {
      "cell_type": "code",
      "source": [
        "vectors.dim"
      ],
      "metadata": {
        "colab": {
          "base_uri": "https://localhost:8080/"
        },
        "id": "kOd1ceok8x8T",
        "outputId": "327ab507-467a-47ba-99ce-72ef306a7569"
      },
      "execution_count": 30,
      "outputs": [
        {
          "output_type": "execute_result",
          "data": {
            "text/plain": [
              "300"
            ]
          },
          "metadata": {},
          "execution_count": 30
        }
      ]
    },
    {
      "cell_type": "markdown",
      "source": [
        "Ans: 300"
      ],
      "metadata": {
        "id": "k84fkPY68_Fz"
      }
    },
    {
      "cell_type": "markdown",
      "source": [
        "**Question 2: What are the top-5 most similar words to picnic (not including picnic itself)?**"
      ],
      "metadata": {
        "id": "-xME-x3v9Bsq"
      }
    },
    {
      "cell_type": "code",
      "source": [
        "print(vectors.most_similar(\"picnic\", topn=6))"
      ],
      "metadata": {
        "colab": {
          "base_uri": "https://localhost:8080/"
        },
        "id": "iaisVZtr9UiU",
        "outputId": "fac6d320-a8fe-4ace-8015-a8b1323e5592"
      },
      "execution_count": 31,
      "outputs": [
        {
          "output_type": "stream",
          "name": "stdout",
          "text": [
            "[('picnics', 0.7400875), ('picnic_lunch', 0.721374), ('Picnic', 0.700534), ('potluck_picnic', 0.6683274), ('picnic_supper', 0.65189123), ('picnicking', 0.63550216)]\n"
          ]
        }
      ]
    },
    {
      "cell_type": "markdown",
      "source": [
        "**Question3: According to the word embeddings, which of these words is not like the others? ['tissue', 'papyrus', 'manila', 'newsprint', 'parchment', 'gazette']**"
      ],
      "metadata": {
        "id": "dh8Ms3Kd92gn"
      }
    },
    {
      "cell_type": "code",
      "source": [
        "vectors.doesnt_match(['tissue', 'papyrus', 'manila', 'newsprint', 'parchment', 'gazette'])"
      ],
      "metadata": {
        "colab": {
          "base_uri": "https://localhost:8080/",
          "height": 35
        },
        "id": "K7OnGm1d988E",
        "outputId": "051e9935-9f9c-44ba-e93a-b31a73f0b4c1"
      },
      "execution_count": 32,
      "outputs": [
        {
          "output_type": "execute_result",
          "data": {
            "text/plain": [
              "'tissue'"
            ],
            "application/vnd.google.colaboratory.intrinsic+json": {
              "type": "string"
            }
          },
          "metadata": {},
          "execution_count": 32
        }
      ]
    },
    {
      "cell_type": "markdown",
      "source": [
        "**Question4: Solve the following analogy: leg is to jump as X is to throw**"
      ],
      "metadata": {
        "id": "KQeE_NwX-Eh7"
      }
    },
    {
      "cell_type": "code",
      "source": [
        "vectors.most_similar(positive = [\"leg\", \"throw\"], negative = [\"jump\"], topn=5)"
      ],
      "metadata": {
        "colab": {
          "base_uri": "https://localhost:8080/"
        },
        "id": "cCHr9LLz-PvL",
        "outputId": "4836fa11-1f6a-42fa-d3d1-7deb2fbd60e8"
      },
      "execution_count": 33,
      "outputs": [
        {
          "output_type": "execute_result",
          "data": {
            "text/plain": [
              "[('forearm', 0.48294652),\n",
              " ('shin', 0.47376165),\n",
              " ('elbow', 0.4679689),\n",
              " ('metacarpal_bone', 0.46781474),\n",
              " ('metacarpal_bones', 0.46605822)]"
            ]
          },
          "metadata": {},
          "execution_count": 33
        }
      ]
    },
    {
      "cell_type": "markdown",
      "source": [
        "**Question 5:describe some random function and visulization**\n",
        "display visulization result of previous part"
      ],
      "metadata": {
        "id": "xsUaGxyo-lgl"
      }
    },
    {
      "cell_type": "code",
      "source": [
        "import matplotlib.pyplot as plt\n",
        "\n",
        "name_list = ['forearm','shin','elbow','metacarpal_bone','metacarpal_bones']\n",
        "num_list = [0.48294652,0.47376165,0.4679689,0.46781474,0.46605822]\n",
        "plt.bar(range(len(num_list)),num_list,tick_label=name_list)\n",
        "plt.show()"
      ],
      "metadata": {
        "colab": {
          "base_uri": "https://localhost:8080/",
          "height": 267
        },
        "id": "pdeIEZ3l-x6m",
        "outputId": "9b3747dc-1003-4fed-9246-9efe1db0a18b"
      },
      "execution_count": 34,
      "outputs": [
        {
          "output_type": "display_data",
          "data": {
            "text/plain": [
              "<Figure size 432x288 with 1 Axes>"
            ],
            "image/png": "[encoded data removed]"
          },
          "metadata": {
            "needs_background": "light"
          }
        }
      ]
    }
  ]
}